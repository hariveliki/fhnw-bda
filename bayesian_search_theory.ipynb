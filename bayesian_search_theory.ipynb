{
 "cells": [
  {
   "cell_type": "code",
   "execution_count": 116,
   "metadata": {},
   "outputs": [],
   "source": [
    "import numpy as np"
   ]
  },
  {
   "cell_type": "code",
   "execution_count": 117,
   "metadata": {},
   "outputs": [],
   "source": [
    "priors = [0.011822311640609673, 0.08244403895560776, 0.00169514365588316, 0.004801089374957489, 0.11124616308955539, 0.015153123353414937, 0.03894767586570048, 0.06583172317553528, 0.023004835793036218, 0.014339310607911706, 0.03672775056668796, 0.11013267678767774, 0.013589834046598762, 0.0909498950073651, 0.007970283826533552, 0.09828509041001993, 0.024967524378203956, 0.03363631050451486, 0.005526038028683185, 0.001800034209660685, 0.06844068848767629, 0.060883282468498265, 0.010809383263973547, 0.05412311180539921, 0.01287268069629488]"
   ]
  },
  {
   "cell_type": "code",
   "execution_count": 118,
   "metadata": {},
   "outputs": [],
   "source": [
    "def get_sorted(priors):\n",
    "    return sorted(list(enumerate(priors)), key=lambda x: x[1], reverse=True)\n",
    "\n",
    "\n",
    "def get_posterior_i(pi_i, p=0.6):\n",
    "    posterior_i = pi_i * ((1 - p) / (1 - (p * pi_i)))\n",
    "    return posterior_i\n",
    "\n",
    "\n",
    "def get_updated_priors(priors, sector_i: int, pi_i: float, p=0.6):\n",
    "    n = len(priors)\n",
    "    for sector_curr in range(n):\n",
    "        if sector_curr == sector_i:\n",
    "            continue\n",
    "        pi_j = priors[sector_curr]\n",
    "        posterior_j = pi_j * (1 / (1 - (p * pi_i)))\n",
    "        priors[sector_curr] = posterior_j\n",
    "    return priors"
   ]
  },
  {
   "cell_type": "code",
   "execution_count": 119,
   "metadata": {},
   "outputs": [
    {
     "name": "stdout",
     "output_type": "stream",
     "text": [
      "Round: 0\n",
      "Sector: 4, Prob: 0.11124616308955539\n",
      "Round: 1\n",
      "Sector: 11, Prob: 0.11778003894892841\n",
      "Round: 2\n",
      "Sector: 15, Prob: 0.11285472082383839\n",
      "Round: 3\n",
      "Sector: 13, Prob: 0.1117926956234572\n",
      "Round: 4\n",
      "Sector: 1, Prob: 0.10841014294377646\n",
      "Round: 5\n",
      "Sector: 20, Prob: 0.09608016367648475\n",
      "Round: 6\n",
      "Sector: 7, Prob: 0.09793057970029723\n",
      "Round: 7\n",
      "Sector: 21, Prob: 0.09607971235692601\n",
      "Round: 8\n",
      "Sector: 23, Prob: 0.09050655044978546\n",
      "Round: 9\n",
      "Round: 10\n",
      "Round: 11\n",
      "Round: 12\n",
      "Sector: 6, Prob: 0.07982419842252478\n",
      "Round: 13\n",
      "Round: 14\n",
      "Sector: 10, Prob: 0.08295734248428457\n",
      "Round: 15\n",
      "Round: 16\n",
      "Sector: 17, Prob: 0.08388661129831051\n",
      "Round: 17\n",
      "Round: 18\n",
      "Round: 19\n",
      "Round: 20\n",
      "Sector: 16, Prob: 0.0748473520310518\n",
      "Round: 21\n",
      "Sector: 8, Prob: 0.0721444960778357\n",
      "Round: 22\n",
      "Round: 23\n",
      "Round: 24\n",
      "Round: 25\n",
      "Round: 26\n",
      "Round: 27\n",
      "Round: 28\n",
      "Sector: 5, Prob: 0.06287063925953076\n",
      "Round: 29\n"
     ]
    }
   ],
   "source": [
    "searched = set()\n",
    "for n in range(30):\n",
    "    print(f\"Round: {n}\")\n",
    "    search_plan = get_sorted(priors)\n",
    "    sector_i = search_plan[0][0]\n",
    "    pi_i = search_plan[0][1]\n",
    "    posterior_i = get_posterior_i(pi_i)\n",
    "    priors[sector_i] = posterior_i\n",
    "    priors = get_updated_priors(priors, sector_i, posterior_i)\n",
    "    priors_sum = sum(priors)\n",
    "    priors = [prior / priors_sum for prior in priors]\n",
    "    np.testing.assert_almost_equal(sum(priors), 1)\n",
    "    if sector_i not in searched:\n",
    "        searched.add(sector_i)\n",
    "        print(f\"Sector: {sector_i}, Prob: {pi_i}\")"
   ]
  },
  {
   "cell_type": "code",
   "execution_count": null,
   "metadata": {},
   "outputs": [],
   "source": []
  }
 ],
 "metadata": {
  "kernelspec": {
   "display_name": "del",
   "language": "python",
   "name": "python3"
  },
  "language_info": {
   "codemirror_mode": {
    "name": "ipython",
    "version": 3
   },
   "file_extension": ".py",
   "mimetype": "text/x-python",
   "name": "python",
   "nbconvert_exporter": "python",
   "pygments_lexer": "ipython3",
   "version": "3.10.13"
  }
 },
 "nbformat": 4,
 "nbformat_minor": 2
}
